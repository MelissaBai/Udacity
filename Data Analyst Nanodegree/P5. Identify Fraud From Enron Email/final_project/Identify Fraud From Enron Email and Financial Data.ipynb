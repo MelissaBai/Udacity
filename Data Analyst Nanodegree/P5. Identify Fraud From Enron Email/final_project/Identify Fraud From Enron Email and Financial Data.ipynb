{
 "cells": [
  {
   "cell_type": "markdown",
   "metadata": {},
   "source": [
    "## Project Overview"
   ]
  },
  {
   "cell_type": "markdown",
   "metadata": {},
   "source": [
    "<p>In 2000, Enron was one of the largest companies in the United States. By 2002, it had collapsed into bankruptcy due to widespread corporate fraud. In the resulting Federal investigation, a significant amount of typically confidential information entered into the public record, including tens of thousands of emails and detailed financial data for top executives. In this project, you will play detective, and put your new skills to use by building a person of interest identifier based on financial and email data made public as a result of the Enron scandal. To assist you in your detective work, we've combined this data with a hand-generated list of persons of interest in the fraud case, which means individuals who were indicted, reached a settlement or plea deal with the government, or testified in exchange for prosecution immunity.</p>\n",
    "\n",
    "<p>In this project, I am going to use financial and email data of 146 Enron executives that are publicly availalbe to build a person of interest identifier. Person of interest(POI) is a person who commited fraud. I will use machine learning techniques to build an algorithm to identify POI.</p>\n",
    "\n",
    "<p>There are four major steps in my project:</p>\n",
    "<li>Enron Data Set Exploration</li>\n",
    "<li>Feature Processing</li>\n",
    "<li>Algorithm Choosing and Tuning</li> \n",
    "<li>Conclusion</li>"
   ]
  },
  {
   "cell_type": "markdown",
   "metadata": {},
   "source": [
    "## Enron Data Set Exploration"
   ]
  },
  {
   "cell_type": "code",
   "execution_count": 1,
   "metadata": {
    "collapsed": false
   },
   "outputs": [],
   "source": [
    "#imports\n",
    "%matplotlib inline\n",
    "import pprint\n",
    "import pickle\n",
    "import sys\n",
    "import matplotlib.pyplot as plt\n",
    "from time import time\n",
    "from operator import itemgetter\n",
    "from collections import defaultdict\n",
    "from sklearn.linear_model import LogisticRegression, LinearRegression\n",
    "from sklearn.feature_selection import SelectKBest, f_classif, SelectPercentile\n",
    "from sklearn.metrics import precision_score\n",
    "from sklearn.metrics import recall_score\n",
    "from sklearn.metrics import accuracy_score\n",
    "from sklearn.metrics import f1_score\n",
    "from sklearn.cross_validation import StratifiedShuffleSplit\n",
    "from sklearn.cross_validation import train_test_split\n",
    "from sklearn.pipeline import Pipeline\n",
    "from sklearn.naive_bayes import GaussianNB\n",
    "from sklearn.tree import DecisionTreeClassifier\n",
    "from sklearn.svm import SVC\n",
    "from sklearn.preprocessing import MinMaxScaler\n",
    "from sklearn.grid_search import GridSearchCV\n",
    "from sklearn.metrics import precision_recall_fscore_support\n",
    "\n",
    "\n",
    "sys.path.append(\"../tools/\")\n",
    "from feature_format import featureFormat, targetFeatureSplit"
   ]
  },
  {
   "cell_type": "code",
   "execution_count": 2,
   "metadata": {
    "collapsed": false
   },
   "outputs": [],
   "source": [
    "# Understanding the dataset and questions\n",
    "data = pickle.load(open('final_project_dataset.pkl', 'rb'))"
   ]
  },
  {
   "cell_type": "code",
   "execution_count": 3,
   "metadata": {
    "collapsed": false
   },
   "outputs": [
    {
     "data": {
      "text/plain": [
       "146"
      ]
     },
     "execution_count": 3,
     "metadata": {},
     "output_type": "execute_result"
    }
   ],
   "source": [
    "# How many people included in the dataset\n",
    "len(data)"
   ]
  },
  {
   "cell_type": "code",
   "execution_count": 4,
   "metadata": {
    "collapsed": false
   },
   "outputs": [
    {
     "name": "stdout",
     "output_type": "stream",
     "text": [
      "('salary', 365788)\n",
      "('to_messages', 807)\n",
      "('deferral_payments', 'NaN')\n",
      "('total_payments', 1061827)\n",
      "('exercised_stock_options', 'NaN')\n",
      "('bonus', 600000)\n",
      "('restricted_stock', 585062)\n",
      "('shared_receipt_with_poi', 702)\n",
      "('restricted_stock_deferred', 'NaN')\n",
      "('total_stock_value', 585062)\n",
      "('expenses', 94299)\n",
      "('loan_advances', 'NaN')\n",
      "('from_messages', 29)\n",
      "('other', 1740)\n",
      "('from_this_person_to_poi', 1)\n",
      "('poi', False)\n",
      "('director_fees', 'NaN')\n",
      "('deferred_income', 'NaN')\n",
      "('long_term_incentive', 'NaN')\n",
      "('email_address', 'mark.metts@enron.com')\n",
      "('from_poi_to_this_person', 38)\n",
      "('\\n', 'Number of Features:', 21)\n"
     ]
    }
   ],
   "source": [
    "# What features and their values are included and the count\n",
    "count = 0\n",
    "for item in data:\n",
    "    for feature in data[item]:\n",
    "        count += 1\n",
    "        print (feature, data[item][feature])\n",
    "    print (\"\\n\",\"Number of Features:\", count)\n",
    "    break"
   ]
  },
  {
   "cell_type": "code",
   "execution_count": 5,
   "metadata": {
    "collapsed": false
   },
   "outputs": [
    {
     "name": "stdout",
     "output_type": "stream",
     "text": [
      "18\n"
     ]
    }
   ],
   "source": [
    "# Checking for how many POIs are there in the dataset\n",
    "count_poi = 0\n",
    "for item in data:\n",
    "    if data[item]['poi'] == 1:\n",
    "        count_poi += 1\n",
    "print (count_poi)"
   ]
  },
  {
   "cell_type": "markdown",
   "metadata": {},
   "source": [
    "In the pdf document, there are 35 POIs, but there are only 18 POIs in the dataset. Only have 18 POIs may not provide enough examples to learn the patters. This is a potential problem."
   ]
  },
  {
   "cell_type": "code",
   "execution_count": 6,
   "metadata": {
    "collapsed": false
   },
   "outputs": [
    {
     "name": "stdout",
     "output_type": "stream",
     "text": [
      "{'salary': 51, 'to_messages': 60, 'deferral_payments': 107, 'total_payments': 21, 'long_term_incentive': 80, 'loan_advances': 142, 'bonus': 64, 'restricted_stock': 36, 'restricted_stock_deferred': 128, 'total_stock_value': 20, 'shared_receipt_with_poi': 60, 'from_poi_to_this_person': 60, 'exercised_stock_options': 44, 'from_messages': 60, 'other': 53, 'from_this_person_to_poi': 60, 'deferred_income': 97, 'expenses': 51, 'email_address': 35, 'director_fees': 129}\n"
     ]
    },
    {
     "data": {
      "text/plain": [
       "[('total_stock_value', 20),\n",
       " ('total_payments', 21),\n",
       " ('email_address', 35),\n",
       " ('restricted_stock', 36),\n",
       " ('exercised_stock_options', 44),\n",
       " ('salary', 51),\n",
       " ('expenses', 51),\n",
       " ('other', 53),\n",
       " ('to_messages', 60),\n",
       " ('shared_receipt_with_poi', 60),\n",
       " ('from_poi_to_this_person', 60),\n",
       " ('from_messages', 60),\n",
       " ('from_this_person_to_poi', 60),\n",
       " ('bonus', 64),\n",
       " ('long_term_incentive', 80),\n",
       " ('deferred_income', 97),\n",
       " ('deferral_payments', 107),\n",
       " ('restricted_stock_deferred', 128),\n",
       " ('director_fees', 129),\n",
       " ('loan_advances', 142)]"
      ]
     },
     "execution_count": 6,
     "metadata": {},
     "output_type": "execute_result"
    }
   ],
   "source": [
    "# Count of nan values for each feature\n",
    "nan_count = {}\n",
    "\n",
    "for person in data:\n",
    "    #nan_count[feature] = 0\n",
    "    for feature in data[person]:\n",
    "        if data[person][feature] == 'NaN':\n",
    "            nan_count[feature] = nan_count.get(feature, 0) +1\n",
    "print (nan_count)\n",
    "\n",
    "# sorting nan_count dictionary by values\n",
    "\n",
    "sorted(nan_count.items(), key=itemgetter(1))\n"
   ]
  },
  {
   "cell_type": "markdown",
   "metadata": {
    "collapsed": false
   },
   "source": [
    "From the above dictionary we know that the features at the bottom have more NaN values, and may not be feasible to be part of 'feature_selection'.\n",
    "\n"
   ]
  },
  {
   "cell_type": "code",
   "execution_count": 7,
   "metadata": {
    "collapsed": false
   },
   "outputs": [
    {
     "data": {
      "image/png": "[encoded data removed]",
      "text/plain": [
       "<matplotlib.figure.Figure at 0x10bd4a890>"
      ]
     },
     "metadata": {},
     "output_type": "display_data"
    },
    {
     "name": "stdout",
     "output_type": "stream",
     "text": [
      "TOTAL {'salary': 26704229, 'to_messages': 'NaN', 'deferral_payments': 32083396, 'total_payments': 309886585, 'exercised_stock_options': 311764000, 'bonus': 97343619, 'restricted_stock': 130322299, 'shared_receipt_with_poi': 'NaN', 'restricted_stock_deferred': -7576788, 'total_stock_value': 434509511, 'expenses': 5235198, 'loan_advances': 83925000, 'from_messages': 'NaN', 'other': 42667589, 'from_this_person_to_poi': 'NaN', 'poi': False, 'director_fees': 1398517, 'deferred_income': -27992891, 'long_term_incentive': 48521928, 'email_address': 'NaN', 'from_poi_to_this_person': 'NaN'}\n"
     ]
    },
    {
     "data": {
      "text/plain": [
       "<matplotlib.figure.Figure at 0x10e871f90>"
      ]
     },
     "metadata": {},
     "output_type": "display_data"
    }
   ],
   "source": [
    "### read in data dictionary, convert to numpy array\n",
    "#data_dict = pickle.load( open(\"../final_project/final_project_dataset.pkl\", \"r\") )\n",
    "#data_dict.pop('TOTAL')\n",
    "features = [\"salary\", \"bonus\"]\n",
    "data_dict = featureFormat(data, features)\n",
    "\n",
    "for point in data_dict:\n",
    "    salary = point[0]\n",
    "    bonus = point[1]\n",
    "    plt.scatter( salary, bonus )\n",
    "\n",
    "plt.xlabel(\"salary\")\n",
    "plt.ylabel(\"bonus\")\n",
    "plt.show()\n",
    "plt.figure(figsize=(20,10))\n",
    "\n",
    "for k in data:\n",
    "    if k == 'TOTAL':\n",
    "        print k, data[k]"
   ]
  },
  {
   "cell_type": "code",
   "execution_count": 8,
   "metadata": {
    "collapsed": false
   },
   "outputs": [],
   "source": [
    "#Image(filename='data.png')"
   ]
  },
  {
   "cell_type": "code",
   "execution_count": 9,
   "metadata": {
    "collapsed": false
   },
   "outputs": [
    {
     "data": {
      "text/plain": [
       "{'bonus': 97343619,\n",
       " 'deferral_payments': 32083396,\n",
       " 'deferred_income': -27992891,\n",
       " 'director_fees': 1398517,\n",
       " 'email_address': 'NaN',\n",
       " 'exercised_stock_options': 311764000,\n",
       " 'expenses': 5235198,\n",
       " 'from_messages': 'NaN',\n",
       " 'from_poi_to_this_person': 'NaN',\n",
       " 'from_this_person_to_poi': 'NaN',\n",
       " 'loan_advances': 83925000,\n",
       " 'long_term_incentive': 48521928,\n",
       " 'other': 42667589,\n",
       " 'poi': False,\n",
       " 'restricted_stock': 130322299,\n",
       " 'restricted_stock_deferred': -7576788,\n",
       " 'salary': 26704229,\n",
       " 'shared_receipt_with_poi': 'NaN',\n",
       " 'to_messages': 'NaN',\n",
       " 'total_payments': 309886585,\n",
       " 'total_stock_value': 434509511}"
      ]
     },
     "execution_count": 9,
     "metadata": {},
     "output_type": "execute_result"
    }
   ],
   "source": [
    "data.pop('TOTAL')  "
   ]
  },
  {
   "cell_type": "markdown",
   "metadata": {},
   "source": [
    "From the above image and print out, we can see that'total' value is an outstanding outlier on the right upper conner. The salary and bonus of total is much larger than any other person. Remove total."
   ]
  },
  {
   "cell_type": "code",
   "execution_count": 10,
   "metadata": {
    "collapsed": false
   },
   "outputs": [
    {
     "data": {
      "image/png": "[encoded data removed]",
      "text/plain": [
       "<matplotlib.figure.Figure at 0x10e411610>"
      ]
     },
     "metadata": {},
     "output_type": "display_data"
    },
    {
     "data": {
      "text/plain": [
       "<matplotlib.figure.Figure at 0x10bd9eb10>"
      ]
     },
     "execution_count": 10,
     "metadata": {},
     "output_type": "execute_result"
    },
    {
     "data": {
      "text/plain": [
       "<matplotlib.figure.Figure at 0x10bd9eb10>"
      ]
     },
     "metadata": {},
     "output_type": "display_data"
    }
   ],
   "source": [
    "#features = [\"salary\", \"bonus\"]\n",
    "data_dict = featureFormat(data, features)\n",
    "\n",
    "for point in data_dict:\n",
    "    salary = point[0]\n",
    "    bonus = point[1]\n",
    "    plt.scatter( salary, bonus )\n",
    "\n",
    "plt.xlabel(\"salary\")\n",
    "plt.ylabel(\"bonus\")\n",
    "plt.show()\n",
    "plt.figure(figsize=(30,10))\n"
   ]
  },
  {
   "cell_type": "markdown",
   "metadata": {},
   "source": [
    "After removing total, we still see some outliers receive way more salaries and bonuses than others, "
   ]
  },
  {
   "cell_type": "code",
   "execution_count": 11,
   "metadata": {
    "collapsed": false
   },
   "outputs": [
    {
     "name": "stdout",
     "output_type": "stream",
     "text": [
      "[('SKILLING JEFFREY K', 1111258), ('LAY KENNETH L', 1072321), ('FREVERT MARK A', 1060932)]\n",
      "[('LAVORATO JOHN J', 8000000), ('LAY KENNETH L', 7000000), ('SKILLING JEFFREY K', 5600000), ('BELDEN TIMOTHY N', 5249999), ('ALLEN PHILLIP K', 4175000), ('KITCHEN LOUISE', 3100000), ('WHALLEY LAWRENCE G', 3000000), ('DELAINEY DAVID W', 3000000), ('MCMAHON JEFFREY', 2600000)]\n"
     ]
    }
   ],
   "source": [
    "# Identifying 3 people that receive highest salaries and 1 receive highest bonus.\n",
    "salary = {}\n",
    "bonus = {}\n",
    "for person in data:\n",
    "    if data[person]['salary'] == 'NaN':\n",
    "        continue\n",
    "    salary[person]=data[person]['salary']\n",
    "    if data[person]['bonus'] == 'NaN':\n",
    "        continue\n",
    "    bonus[person]=data[person]['bonus']\n",
    "    \n",
    "salary_outliers = sorted(salary.items(), key=itemgetter(1), reverse=True)[:3]\n",
    "bonus_outliers = sorted(bonus.items(), key=itemgetter(1), reverse=True)[:9]\n",
    "print salary_outliers\n",
    "print bonus_outliers\n",
    "\n"
   ]
  },
  {
   "cell_type": "markdown",
   "metadata": {},
   "source": [
    "All these people have salaries or bonuses more than seven digits. 'SKILLING JEFFREY K' and 'LAY KENNETH L' appear multiple times on the list. And they are important POIs. So these outliers we will keep in the dataset."
   ]
  },
  {
   "cell_type": "markdown",
   "metadata": {},
   "source": [
    "## Feature Processing"
   ]
  },
  {
   "cell_type": "markdown",
   "metadata": {},
   "source": [
    "### Creating New Features"
   ]
  },
  {
   "cell_type": "markdown",
   "metadata": {},
   "source": [
    "Now we are going to create new features from our feature list. There is 'from_poi_to_this_person', 'from_messages', 'from_this_person_to_poi', and 'to_messages'. Maybe POIs will send emails in between them pretty frequently. I would like to calculate 'from_poi_ratio' and 'to_poi_ratio', and test if they are good features."
   ]
  },
  {
   "cell_type": "code",
   "execution_count": 12,
   "metadata": {
    "collapsed": false
   },
   "outputs": [],
   "source": [
    "for k in data:\n",
    "    from_ratio = float(data[k]['from_poi_to_this_person'])/float(data[k]['from_messages'])\n",
    "    to_ratio = float(data[k]['from_this_person_to_poi'])/float(data[k]['to_messages'])\n",
    "    data[k]['from_poi_ratio'] = from_ratio\n",
    "    data[k]['to_poi_ratio'] = to_ratio\n",
    "    "
   ]
  },
  {
   "cell_type": "code",
   "execution_count": 13,
   "metadata": {
    "collapsed": false
   },
   "outputs": [
    {
     "name": "stdout",
     "output_type": "stream",
     "text": [
      "['poi', 'to_messages', 'deferral_payments', 'expenses', 'deferred_income', 'long_term_incentive', 'restricted_stock_deferred', 'shared_receipt_with_poi', 'loan_advances', 'from_messages', 'other', 'to_poi_ratio', 'director_fees', 'bonus', 'total_stock_value', 'from_poi_to_this_person', 'from_this_person_to_poi', 'from_poi_ratio', 'restricted_stock', 'salary', 'total_payments', 'exercised_stock_options']\n"
     ]
    }
   ],
   "source": [
    "features_list = []\n",
    "for person in data:\n",
    "    for feature in data[person]:\n",
    "        features_list.append(feature)\n",
    "    break\n",
    "#print features_list\n",
    "features_list.remove('email_address')\n",
    "features_list.remove('poi')\n",
    "features_list.insert(0, 'poi')\n",
    "print features_list\n",
    "\n"
   ]
  },
  {
   "cell_type": "code",
   "execution_count": 14,
   "metadata": {
    "collapsed": false
   },
   "outputs": [],
   "source": [
    "### Convert all float NaN on the newly created features to 0.0\n",
    "myData = featureFormat(data, features_list, sort_keys=True)\n",
    "labels, features = targetFeatureSplit(myData)\n",
    "\n",
    "for i, row in enumerate(features):\n",
    "    for j, x in enumerate(row):\n",
    "        if str(x) == 'nan':\n",
    "            features[i][j] = 0.0\n"
   ]
  },
  {
   "cell_type": "markdown",
   "metadata": {},
   "source": [
    "### Feature Selection"
   ]
  },
  {
   "cell_type": "code",
   "execution_count": 15,
   "metadata": {
    "collapsed": false
   },
   "outputs": [
    {
     "name": "stdout",
     "output_type": "stream",
     "text": [
      "The Features Selected by SKB:\n",
      "['deferred_income', 'bonus', 'total_stock_value', 'salary', 'exercised_stock_options']\n",
      "\n",
      "The Features Selected by SKB - GS:\n",
      "['deferred_income', 'long_term_incentive', 'shared_receipt_with_poi', 'loan_advances', 'bonus', 'total_stock_value', 'restricted_stock', 'salary', 'total_payments', 'exercised_stock_options']\n",
      "\n",
      "Pipeline(steps=[('SKB', SelectKBest(k=10, score_func=<function f_classif at 0x10bab8c08>)), ('GaussianNB', GaussianNB())])\n"
     ]
    },
    {
     "name": "stderr",
     "output_type": "stream",
     "text": [
      "/Users/mbai/Applications/Anaconda/anaconda/envs/python2/lib/python2.7/site-packages/sklearn/metrics/classification.py:1074: UndefinedMetricWarning: F-score is ill-defined and being set to 0.0 due to no predicted samples.\n",
      "  'precision', 'predicted', average, warn_for)\n"
     ]
    }
   ],
   "source": [
    "# 1. SelectKBest \n",
    "skb = SelectKBest(f_classif, k = 5)\n",
    "X_new = skb.fit(features, labels)\n",
    "\n",
    "# Get Features Selected\n",
    "features_selected=[features_list[i+1] for i in skb.get_support(indices=True)]\n",
    "print 'The Features Selected by SKB:'\n",
    "print features_selected\n",
    "\n",
    "# 2. SelectKBest - GridSearchCV\n",
    "skb = SelectKBest(f_classif)\n",
    "\n",
    "pipeline =  Pipeline(steps=[(\"SKB\", skb), (\"GaussianNB\", GaussianNB())])\n",
    "params_skb = {'SKB__k': [5,10,15,20] }\n",
    "          \n",
    "gs = GridSearchCV(pipeline, param_grid = params_skb, scoring = 'f1')\n",
    "XX_new = gs.fit(features, labels)\n",
    "\n",
    "# Get Features Selected\n",
    "features_selected=[features_list[i+1] for i in gs.best_estimator_.named_steps['SKB'].get_support(indices=True)]\n",
    "print \"\\n\", 'The Features Selected by SKB - GS:'\n",
    "print features_selected\n",
    "\n",
    "best_clf = gs.best_estimator_\n",
    "print \"\\n\", best_clf\n",
    "\n"
   ]
  },
  {
   "cell_type": "markdown",
   "metadata": {},
   "source": [
    "### Analysis of Feature Selection Using SelectKBest\n",
    "<p>I tried SelectKBest to do feature selection independently and together with naivebayes classifier. The features that they selected are the same, which proved selectKBest does selection independently from classifiers.\n",
    "\n",
    "<p> In addition, together using GridSearchCV and Pipeline, I was trying to find what K is optimal in terms of best f1 score. It turns out choosing 10 features is the winner from the best_estimator attribute. Thus, these ten features will be used in feature selection.\n",
    "\n",
    "<p> Meanwhile, I used entire dataset instead of splitting up train and test datasets. My final performance might be biased since the test dataset has already been used in the process."
   ]
  },
  {
   "cell_type": "markdown",
   "metadata": {},
   "source": [
    "## Algorithm Choosing and Tuning"
   ]
  },
  {
   "cell_type": "code",
   "execution_count": 21,
   "metadata": {
    "collapsed": false
   },
   "outputs": [],
   "source": [
    "### split data into training and testing datasets under cross validation - StratifiedShuffleSplit\n",
    "features_selected.insert(0, 'poi')\n",
    "myData = featureFormat(data, features_selected, sort_keys=True)\n",
    "labels, features = targetFeatureSplit(myData)\n",
    "\n",
    "for i, row in enumerate(features):\n",
    "    for j, x in enumerate(row):\n",
    "        if str(x) == 'nan':\n",
    "            features[i][j] = 0.0\n",
    "\n",
    "\n",
    "cv = StratifiedShuffleSplit(labels, n_iter = 50, random_state = 42)\n",
    "for train_idx, test_idx in cv: \n",
    "    features_train = []\n",
    "    features_test  = []\n",
    "    labels_train   = []\n",
    "    labels_test    = []\n",
    "    for ii in train_idx:\n",
    "        features_train.append( features[ii] )\n",
    "        labels_train.append( labels[ii] )\n",
    "    for jj in test_idx:\n",
    "        features_test.append( features[jj] )\n",
    "        labels_test.append( labels[jj] )"
   ]
  },
  {
   "cell_type": "markdown",
   "metadata": {},
   "source": [
    "Note that if you use the entire dataset for feature selection, your final model performance is going to be biased since test data was already used in this process. The alternative to this, and more formal solution, is to combine feature selection with cross validation, so your final features are selected as a result of a cross validation process. For example, instead of using SelectKBest for feature selection, you can calculate the averaged feature F-scores over all folds of the cross validation and use the distribution of these average scores to choose an appropriate K. For this project it is fine to use the entire dataset, but acknowledgement of the negative impact should be demonstrated in the written response."
   ]
  },
  {
   "cell_type": "code",
   "execution_count": 22,
   "metadata": {
    "collapsed": false
   },
   "outputs": [
    {
     "name": "stdout",
     "output_type": "stream",
     "text": [
      "0.933333333333\n",
      "1.0\n",
      "0.5\n",
      "0.666666666667\n"
     ]
    }
   ],
   "source": [
    "# Using feature_importances_ attributes to \n",
    "\n",
    "#features_list = ['deferred_income', 'bonus', 'total_stock_value', 'salary', 'exercised_stock_options']\n",
    "\n",
    "clf = GaussianNB()\n",
    "clf.fit(features_train, labels_train)\n",
    "pred = clf.predict(features_test)\n",
    "\n",
    "\n",
    "print accuracy_score(labels_test, pred)\n",
    "print precision_score(labels_test, pred)\n",
    "print recall_score(labels_test, pred)\n",
    "print f1_score(labels_test, pred)\n"
   ]
  },
  {
   "cell_type": "markdown",
   "metadata": {},
   "source": [
    "Using the default parameter of Naive Bayes Classifier gets not too bad results. The accuracy score is 0.93, precision score 1.0, recall score 0.5, and f1 score 0.67. As the next step, I'll use pipeline and gridsearch to try out different parameters in different algorithm. In this case. recall/precision or f1 should be used as the score to evaluate the performance."
   ]
  },
  {
   "cell_type": "code",
   "execution_count": 35,
   "metadata": {
    "collapsed": false
   },
   "outputs": [
    {
     "name": "stdout",
     "output_type": "stream",
     "text": [
      "Pipeline(steps=[('scaling', MinMaxScaler(copy=True, feature_range=(0, 1))), ('dt', DecisionTreeClassifier(class_weight=None, criterion='gini', max_depth=None,\n",
      "            max_features=None, max_leaf_nodes=None, min_samples_leaf=1,\n",
      "            min_samples_split=2, min_weight_fraction_leaf=0.0,\n",
      "            presort=False, random_state=None, splitter='best'))])\n",
      "0.314142857143\n"
     ]
    }
   ],
   "source": [
    "# DecisionTreeClassifier()\n",
    "dtree =  DecisionTreeClassifier()\n",
    "scaler = MinMaxScaler()\n",
    "param_grid = {\"dt__criterion\": [\"gini\", \"entropy\"],\n",
    "              \"dt__min_samples_split\": [2, 10, 20],\n",
    "              \"dt__max_depth\": [None, 2, 5, 10],\n",
    "              \"dt__min_samples_leaf\": [1, 5, 10],\n",
    "              \"dt__max_leaf_nodes\": [None, 5, 10, 20],\n",
    "              }\n",
    "\n",
    "gs =  Pipeline(steps=[('scaling',scaler), (\"dt\", dtree)])\n",
    "\n",
    "dtcclf = GridSearchCV(gs, param_grid, scoring='f1', cv=cv)\n",
    "\n",
    "dtcclf.fit(features, labels)\n",
    "\n",
    "clf = dtcclf.best_estimator_\n",
    "score = dtcclf.best_score_\n",
    "\n",
    "\n",
    "print clf\n",
    "print score"
   ]
  },
  {
   "cell_type": "code",
   "execution_count": 36,
   "metadata": {
    "collapsed": false
   },
   "outputs": [
    {
     "name": "stdout",
     "output_type": "stream",
     "text": [
      "Pipeline(steps=[('minmaxer', MinMaxScaler(copy=True, feature_range=(0, 1))), ('clf', SVC(C=1, cache_size=200, class_weight={False: 1, True: 10}, coef0=0.0,\n",
      "  decision_function_shape=None, degree=3, gamma=0.0, kernel='rbf',\n",
      "  max_iter=-1, probability=False, random_state=None, shrinking=True,\n",
      "  tol=0.1, verbose=False))])\n",
      "0.386791652792\n"
     ]
    }
   ],
   "source": [
    "svr = SVC()\n",
    "clf_params= {\n",
    "                       'clf__C': [1e-5, 1e-2, 1e-1, 1, 10, 1e2, 1e5],\n",
    "                       'clf__gamma': [0.0],\n",
    "                       'clf__kernel': ['linear', 'poly', 'rbf'],\n",
    "                       'clf__tol': [1e-1, 1e-2, 1e-3, 1e-4, 1e-5],  \n",
    "                       'clf__class_weight': [{True: 12, False: 1},\n",
    "                                                 {True: 10, False: 1},\n",
    "                                               {True: 8, False: 1},\n",
    "                                               {True: 15, False: 1},\n",
    "                                               {True: 4, False: 1}]\n",
    "                      }\n",
    "\n",
    "#For this Pipeline:\n",
    "pipe = Pipeline(steps=[('minmaxer', MinMaxScaler()), ('clf', SVC())])\n",
    "a_grid_search = GridSearchCV(pipe, param_grid = clf_params,cv = cv, scoring = 'f1')\n",
    "a_grid_search.fit(features,labels)\n",
    "\n",
    "# pick a winner\n",
    "best_clf = a_grid_search.best_estimator_\n",
    "best_score = a_grid_search.best_score_\n",
    "print best_clf\n",
    "print best_score"
   ]
  },
  {
   "cell_type": "markdown",
   "metadata": {},
   "source": [
    "\n",
    "\n",
    "\n",
    "\n",
    "\n",
    "\n"
   ]
  },
  {
   "cell_type": "markdown",
   "metadata": {},
   "source": [
    "## Conclusion"
   ]
  },
  {
   "cell_type": "markdown",
   "metadata": {
    "collapsed": false
   },
   "source": [
    "After trying out NaiveBayes, SVM, DecisionTree combined with Pipeline and GridSearchCV, NaiveBayes has the highest f1 score. SVM was too slow to be executed, thus may not be feasible for the datasets. The f1 score for the naive bayes is 0.67. "
   ]
  },
  {
   "cell_type": "markdown",
   "metadata": {},
   "source": [
    "<b>Importance about paramter tuning</b>\n",
    "<p>Modification of parameters in machine learning algorithms can influence the outcome of the learning process. The goal of algorithm tuning is to find the best point or points for the problem, and to optimize against the test harness.So spending the time to build a trusted algorithm is very important to the problem.</p>"
   ]
  },
  {
   "cell_type": "markdown",
   "metadata": {},
   "source": [
    "<b>Importance of Validation</b>\n",
    "<p>Cross validation involves splitting data into train and test datasets, performing the analysis on the training set and validating the analysis on the test set. To reduce variability, multiple rounds of cross validation are performed using different partitions, and the validation results are averaged over the rounds.</p>\n",
    "<p>In this dataset, since there are only a few POI included in the dasaset, using StratifiedShuffleSplit will make sure that each training and testing datasets have POI labels in it. StratifiedShuffleSplit object is a merge of StratifiedKFold and ShuffleSplit, which returns stratified randomized folds. The folds are made by preserving the percentage of samples for each class."
   ]
  },
  {
   "cell_type": "markdown",
   "metadata": {
    "collapsed": true
   },
   "source": [
    "<b> Recall, Precision and F1 </b>\n",
    "<p>High recall but low precision rate means, nearly every time a POI shows up in the test set, it's easy to identify them. The cost of this is some false positives, wher non-POIs get flagged. </p>\n",
    "\n",
    "<p>On the other hand, high precision but low recall rate means whenever a POI gets flagged in the test set, it's very likely to be a real POI and not a false alarm. But the price of it is missing real POIs.<p>\n",
    "\n",
    "<p>F1 Score is a weighted average of recall and precision score, which is used to evaluate the performance of the algorithms here.</p>\n",
    "\n",
    "\n",
    "\n"
   ]
  },
  {
   "cell_type": "code",
   "execution_count": null,
   "metadata": {
    "collapsed": true
   },
   "outputs": [],
   "source": []
  }
 ],
 "metadata": {
  "kernelspec": {
   "display_name": "Python 2",
   "language": "python",
   "name": "python2"
  },
  "language_info": {
   "codemirror_mode": {
    "name": "ipython",
    "version": 2
   },
   "file_extension": ".py",
   "mimetype": "text/x-python",
   "name": "python",
   "nbconvert_exporter": "python",
   "pygments_lexer": "ipython2",
   "version": "2.7.11"
  }
 },
 "nbformat": 4,
 "nbformat_minor": 0
}
